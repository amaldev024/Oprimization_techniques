{
 "cells": [
  {
   "cell_type": "code",
   "execution_count": null,
   "id": "60b65c3a",
   "metadata": {},
   "outputs": [],
   "source": []
  },
  {
   "cell_type": "code",
   "execution_count": 3,
   "id": "0ba02f42",
   "metadata": {},
   "outputs": [],
   "source": [
    "def f_x(x=0, xc=[1,2], yc=[1,1]):\n",
    "    \n",
    "    #asssume polynomial as (x1**2 + x2 − 11)**2 + (x1 + x2**2 − 7)**2\n",
    "    #minimas at (3,2), (-2.805118,3.131312), (-3.779310,-3.283186), (3.584458,-1.848126)\n",
    "    \n",
    "    x1, x2 = xc[0] + yc[0] *x , xc[1] + yc[1] *x\n",
    "    #print(x,x1,x2)\n",
    "    f =  (x1**2 + x2 - 11)** 2 + (x1 + x2**2 - 7)**2 \n",
    "    \n",
    "    return f"
   ]
  },
  {
   "cell_type": "code",
   "execution_count": 21,
   "id": "21728e37",
   "metadata": {},
   "outputs": [],
   "source": [
    "def df_x(xc):\n",
    "    \n",
    "    h = [0.01, 0]\n",
    "    dfx0 = (f_x(1, xc, h) - f_x(-1, xc, h))/(2*0.01)\n",
    "    \n",
    "    h = [0, 0.01]\n",
    "    dfx1 = (f_x(1, xc, h) - f_x(-1, xc, h))/(2*0.01)\n",
    "    \n",
    "    return [dfx0, dfx1]"
   ]
  },
  {
   "cell_type": "code",
   "execution_count": 53,
   "id": "e71de8bf",
   "metadata": {},
   "outputs": [
    {
     "data": {
      "text/plain": [
       "[-14.000000000000057, -21.999999999999886]"
      ]
     },
     "execution_count": 53,
     "metadata": {},
     "output_type": "execute_result"
    }
   ],
   "source": [
    "x = [0,0]\n",
    "df_x(x)"
   ]
  },
  {
   "cell_type": "code",
   "execution_count": 34,
   "id": "1c9b63ce",
   "metadata": {},
   "outputs": [
    {
     "data": {
      "text/plain": [
       "47.36319999999999"
      ]
     },
     "execution_count": 34,
     "metadata": {},
     "output_type": "execute_result"
    }
   ],
   "source": [
    "k = 0.1\n",
    "f_x(xc=[k*14, k*22])"
   ]
  },
  {
   "cell_type": "code",
   "execution_count": 45,
   "id": "4a6007d3",
   "metadata": {},
   "outputs": [
    {
     "data": {
      "text/plain": [
       "100.06266069507203"
      ]
     },
     "execution_count": 45,
     "metadata": {},
     "output_type": "execute_result"
    }
   ],
   "source": [
    "k = -0.157\n",
    "f_x(xc=[k*14, k*22])"
   ]
  },
  {
   "cell_type": "code",
   "execution_count": 48,
   "id": "fbe9a7cf",
   "metadata": {},
   "outputs": [
    {
     "data": {
      "text/plain": [
       "105.10193151999997"
      ]
     },
     "execution_count": 48,
     "metadata": {},
     "output_type": "execute_result"
    }
   ],
   "source": [
    "k = -0.14\n",
    "f_x(xc=[k*14, k*22])"
   ]
  },
  {
   "cell_type": "code",
   "execution_count": 68,
   "id": "14281c71",
   "metadata": {},
   "outputs": [],
   "source": [
    "def Bounding_phase(xc,yc):\n",
    "    \n",
    "    xc1, yc1 = xc, yc\n",
    "    \n",
    "    x1, x2, x3 = -1 , 0, 1\n",
    "    dx = 0.001\n",
    "    pow2 = 1\n",
    "    \n",
    "    f1 = f_x(x3 - dx, xc, yc)\n",
    "    f2 = f_x(x3, xc, yc)\n",
    "    f3 = f_x(x3 + dx, xc, yc)\n",
    "    #print(f1, f2, f3)\n",
    "    \n",
    "    if f1 < f2 < f3:\n",
    "        dx = -dx\n",
    "    \n",
    "    x2 = x3\n",
    "    x3 += dx\n",
    "    \n",
    "    while(f_x(x3, xc, yc) < f_x(x2, xc, yc)):\n",
    "        \n",
    "        pow2 *= 2\n",
    "        x1, x2, x3 = x2, x3, x3 + pow2*dx\n",
    "        \n",
    "        #print(x1, x2, x3)\n",
    "        #print(\"x3\", f_x(x3, xc, yc) ,\"x2\", f_x(x2, xc, yc))\n",
    "              \n",
    "    #print(pow2)\n",
    "    return x1, x3\n",
    "    "
   ]
  },
  {
   "cell_type": "code",
   "execution_count": 50,
   "id": "4d175579",
   "metadata": {},
   "outputs": [
    {
     "name": "stdout",
     "output_type": "stream",
     "text": [
      "282795.9710394087 283930 285067.4132651366\n",
      "1024\n"
     ]
    },
    {
     "data": {
      "text/plain": [
       "(0.489, -1.0470000000000002)"
      ]
     },
     "execution_count": 50,
     "metadata": {},
     "output_type": "execute_result"
    }
   ],
   "source": [
    "xc, yc = [0,0], [14, 22]\n",
    "\n",
    "\n",
    "Bounding_phase(xc, yc)"
   ]
  },
  {
   "cell_type": "code",
   "execution_count": 67,
   "id": "f9670db3",
   "metadata": {},
   "outputs": [],
   "source": [
    "def Golden_section(xc, yc):\n",
    "    \n",
    "    xc1, yc1 = xc, yc\n",
    "    #print(xc1,yc1, \"aaaaaaaa\")\n",
    "    a, b = sorted(Bounding_phase(xc1,yc1))\n",
    "    #a, b = -2,8\n",
    "    #print(a,b, \"goldern interval\")\n",
    "    #a, b = a - m-1, b + m + 1\n",
    "    \n",
    "    epsilon = 0.001\n",
    "    \n",
    "\n",
    "    f_w = lambda w : f_x(a + (b-a)*w, xc1, yc1)\n",
    "    w_to_x = lambda w: a + (b-a)*w\n",
    "\n",
    "    # inital values\n",
    "    aw, bw, lw = 0, 1, 1 \n",
    "\n",
    "    k = 1\n",
    "\n",
    "    #updating \n",
    "    while lw > epsilon:\n",
    "\n",
    "        w1 = aw + 0.618 * lw\n",
    "        w2 = bw - 0.618 * lw\n",
    "        \n",
    "        #print(a+aw*(b-a),a+w2*(b-a), a+w1*(b-a), a+bw*(b-a))\n",
    "        #print(f_w(aw), f_w(w2), f_w(w1), f_w(bw))\n",
    "\n",
    "\n",
    "        f_w1 = f_w(w1)\n",
    "        f_w2 = f_w(w2)\n",
    "        \n",
    "        #print(f_w2, f_w1)\n",
    "        \n",
    "        if f_w1 > f_w2:\n",
    "            bw = w1\n",
    "            #print(1)\n",
    "        else:\n",
    "            aw = w2\n",
    "            #print(2)\n",
    "\n",
    "        lw = bw - aw\n",
    "\n",
    "        #print(\"After {}th iteration the new aw, bw values are {} {} with f(x) = {}\".format(k, a+aw*(b-a), a+bw*(b-a), f_w((aw+bw)/2)))\n",
    "        k += 1\n",
    "\n",
    "    w_min = (aw + bw)/2\n",
    "    x_min = a + w_min * (b-a)\n",
    "\n",
    "    #print(\"\\nThe Interval of solution is [{}, {}]\".format(w_to_x(aw), w_to_x(bw)), \"golden section\")\n",
    "    #print(\"The function minima is at {} with value {} and error {}\".format(x_min, f_x(x_min, xc1, yc1), lw), \"golden section\")\n",
    "    #print(x_min-0.01, x_min, x_min+0.01)\n",
    "    #print(f_x(x_min-0.01, xc1, yc1), f_x(x_min, xc1, yc1), f_x(x_min+0.01, xc1, yc1))\n",
    "\n",
    "    return x_min\n"
   ]
  },
  {
   "cell_type": "code",
   "execution_count": null,
   "id": "c1d78134",
   "metadata": {},
   "outputs": [],
   "source": []
  },
  {
   "cell_type": "code",
   "execution_count": 52,
   "id": "5d88dfe9",
   "metadata": {},
   "outputs": [
    {
     "name": "stdout",
     "output_type": "stream",
     "text": [
      "282795.9710394087 283930 285067.4132651366\n",
      "1024\n",
      "-1.0470000000000002 0.489 goldern interval\n",
      "\n",
      "The Interval of solution is [0.12643207558620362, 0.1275572460987069] golden section\n",
      "The function minima is at 0.12699466084245525 with value 32.12855751163855 and error 0.0007325328857443747 golden section\n",
      "0.11699466084245526 0.12699466084245525 0.13699466084245526\n",
      "34.58036063842127 32.12855751163855 34.56741627943286\n"
     ]
    },
    {
     "data": {
      "text/plain": [
       "0.12699466084245525"
      ]
     },
     "execution_count": 52,
     "metadata": {},
     "output_type": "execute_result"
    }
   ],
   "source": [
    "xc, yc = [0,0], [14, 22]\n",
    "\n",
    "\n",
    "Golden_section(xc, yc)"
   ]
  },
  {
   "cell_type": "code",
   "execution_count": null,
   "id": "2ed32a52",
   "metadata": {},
   "outputs": [],
   "source": []
  },
  {
   "cell_type": "code",
   "execution_count": null,
   "id": "120771b4",
   "metadata": {},
   "outputs": [],
   "source": []
  },
  {
   "cell_type": "code",
   "execution_count": 73,
   "id": "e96d60ee",
   "metadata": {},
   "outputs": [],
   "source": [
    "def conjugate_gradient():\n",
    "    \n",
    "    x = [0,0]\n",
    "    \n",
    "    df0 = df_x(x)\n",
    "    s = [-i for i in df0]\n",
    "    \n",
    "    lamda = Golden_section(x, s)\n",
    "    \n",
    "    \n",
    "    x = [i+lamda*j for i,j in zip(x,s)]\n",
    "    df1 = df_x(x)\n",
    "    print(df1, \"df111\")\n",
    "    \n",
    "    print(x)\n",
    "    \n",
    "    for i in range(5):\n",
    "        \n",
    "        r = (df1[0]**2 + df1[1]**2)/(df0[0]**2 + df0[1]**2)\n",
    "        \n",
    "        s = [-i + r*j for i,j in zip(df1,s)]\n",
    "        \n",
    "        print(s, \"sss\",i)\n",
    "        \n",
    "        lamda = Golden_section(x, s)\n",
    "        \n",
    "        x = [i+lamda*j for i,j in zip(x,s)]\n",
    "        \n",
    "        df0, df1 = df1, df_x(x)\n",
    "        \n",
    "        print(x,\"xxxxxxxxxxxxxxxxxxxxxxxx\", i,f_x(xc=x))\n",
    "        \n"
   ]
  },
  {
   "cell_type": "code",
   "execution_count": 74,
   "id": "972561c8",
   "metadata": {},
   "outputs": [
    {
     "name": "stdout",
     "output_type": "stream",
     "text": [
      "[-30.71111654025387, 18.785190949879293] df111\n",
      "[1.7779252517943809, 2.793882538534001]\n",
      "[57.3946240320405, 23.14603510864216] sss 0\n",
      "[2.2513845857250327, 2.9848186505913867] xxxxxxxxxxxxxxxxxxxxxxxx 0 25.99154511768021\n",
      "[117.78743705917464, -3.6254700360447316] sss 1\n",
      "[-2.8238565400280207, 3.1410333971426314] xxxxxxxxxxxxxxxxxxxxxxxx 1 0.015054578378807746\n",
      "[1.3260218328023963, -0.76562007365548] sss 2\n",
      "[-2.8059882180543, 3.130716564005195] xxxxxxxxxxxxxxxxxxxxxxxx 2 3.9552133105260805e-05\n",
      "[0.0620988214179668, 0.04569111780053133] sss 3\n",
      "[-2.805153139464835, 3.1313309987614866] xxxxxxxxxxxxxxxxxxxxxxxx 3 5.279286349467484e-08\n",
      "[0.0035777275445185155, -0.0025439673063956587] sss 4\n",
      "[-2.805122088032171, 3.131308919430813] xxxxxxxxxxxxxxxxxxxxxxxx 4 1.059579688412352e-09\n"
     ]
    }
   ],
   "source": [
    "conjugate_gradient()"
   ]
  },
  {
   "cell_type": "code",
   "execution_count": 75,
   "id": "1eed4ee1",
   "metadata": {},
   "outputs": [
    {
     "data": {
      "text/plain": [
       "0.08190898995200002"
      ]
     },
     "execution_count": 75,
     "metadata": {},
     "output_type": "execute_result"
    }
   ],
   "source": [
    "x = [2.992, 2.072]\n",
    "f_x(xc=x)"
   ]
  }
 ],
 "metadata": {
  "kernelspec": {
   "display_name": "Python 3 (ipykernel)",
   "language": "python",
   "name": "python3"
  },
  "language_info": {
   "codemirror_mode": {
    "name": "ipython",
    "version": 3
   },
   "file_extension": ".py",
   "mimetype": "text/x-python",
   "name": "python",
   "nbconvert_exporter": "python",
   "pygments_lexer": "ipython3",
   "version": "3.9.16"
  }
 },
 "nbformat": 4,
 "nbformat_minor": 5
}
